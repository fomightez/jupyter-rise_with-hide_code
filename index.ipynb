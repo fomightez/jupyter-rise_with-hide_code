{
 "cells": [
  {
   "cell_type": "markdown",
   "metadata": {
    "slideshow": {
     "slide_type": "slide"
    }
   },
   "source": [
    "# Welcome to the Binder-RISE demo\n",
    "Press `space` to move to the next sub- slide..."
   ]
  },
  {
   "cell_type": "markdown",
   "metadata": {
    "slideshow": {
     "slide_type": "subslide"
    }
   },
   "source": [
    "## Press it again to be taken to a code cell\n",
    " \n",
    "You'll be able to click and run the code cell, live in the presentation!"
   ]
  },
  {
   "cell_type": "code",
   "execution_count": null,
   "metadata": {
    "slideshow": {
     "slide_type": "subslide"
    }
   },
   "outputs": [],
   "source": [
    "# Here are our imports (press shift+enter)\n",
    "import numpy as np\n",
    "import matplotlib.pyplot as plt\n",
    "plt.ion()"
   ]
  },
  {
   "cell_type": "markdown",
   "metadata": {
    "slideshow": {
     "slide_type": "subslide"
    }
   },
   "source": [
    "Now we'll generate some data and make a plot! Run the cell below..."
   ]
  },
  {
   "cell_type": "code",
   "execution_count": null,
   "metadata": {},
   "outputs": [],
   "source": [
    "data = np.random.randn(2, 500)\n",
    "sizes = np.abs(data[1])\n",
    "fig, ax = plt.subplots()\n",
    "ax.scatter(*data, s=sizes * 100, c=sizes, cmap=plt.cm.viridis, vmin=-3, vmax=3)\n",
    "ax.set(title=\"Wow, such plot. So scatter. Much viridis.\")\n",
    "ax.set_axis_off()"
   ]
  },
  {
   "cell_type": "markdown",
   "metadata": {},
   "source": [
    "You can even change the code and update the plot in real-time!"
   ]
  },
  {
   "cell_type": "markdown",
   "metadata": {
    "slideshow": {
     "slide_type": "slide"
    }
   },
   "source": [
    "Let's see what these notebooks look like...\n",
    "\n",
    "github.com/binder-examples/requirements\n",
    "github.com/binder-examples/jupyterlab"
   ]
  },
  {
   "cell_type": "markdown",
   "metadata": {
    "slideshow": {
     "slide_type": "slide"
    }
   },
   "source": [
    "# And that's it!\n",
    "\n",
    "If you want to learn more about the RISE plugin, check out [the RISE documentation](https://damianavila.github.io/RISE).\n",
    "\n",
    "If you want to go backwards, hit `shift + space`. Or click the `X` in the top left to go back to the notebook interface.\n",
    "\n",
    "Thanks for playing around with the RISE live demo binder!"
   ]
  }
 ],
 "metadata": {
  "celltoolbar": "Slideshow",
  "kernelspec": {
   "display_name": "Python 3",
   "language": "python",
   "name": "python3"
  },
  "language_info": {
   "codemirror_mode": {
    "name": "ipython",
    "version": 3
   },
   "file_extension": ".py",
   "mimetype": "text/x-python",
   "name": "python",
   "nbconvert_exporter": "python",
   "pygments_lexer": "ipython3",
   "version": "3.6.2"
  },
  "livereveal": {
   "autolaunch": true,
   "scroll": true
  }
 },
 "nbformat": 4,
 "nbformat_minor": 2
}
